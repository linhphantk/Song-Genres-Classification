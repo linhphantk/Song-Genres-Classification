{
 "cells": [
  {
   "cell_type": "markdown",
   "metadata": {},
   "source": [
    "**Machine Learning Basic Principles 2018 - Data Analysis Project Report**"
   ]
  },
  {
   "cell_type": "markdown",
   "metadata": {},
   "source": [
    "# *Music genres classification: From the lenses of Neural networks and K-nearest-neighbours* "
   ]
  },
  {
   "cell_type": "markdown",
   "metadata": {},
   "source": [
    "## Abstract"
   ]
  },
  {
   "cell_type": "markdown",
   "metadata": {},
   "source": [
    "*The project addresses the challenge of music genres classification with various applications in the music streaming industry, which is closely tied to user experience and loyalty to the platform, hence network effect and profit. This report will first provide the background and motivation of the challenge, then a basic analysis of typical features to be looked at in songs and popularity level of different genres. The **main goal** is to construct two machine learning classifiers that will effectively predict song genres based on these features using the methods of Neural networks and K-nearest-neighbour with model accuracy higher than 50% and log loss for the right genre no higher than 0.54. Comparision and application of the two methods will be discused at the end for better approach to the challenge.*\n"
   ]
  },
  {
   "cell_type": "markdown",
   "metadata": {},
   "source": [
    "## 1. Introduction"
   ]
  },
  {
   "cell_type": "markdown",
   "metadata": {},
   "source": [
    "*Classification is a major goal of machine learning with a wide range of industry applications. In this challenge, the spotlight is on the profit-grossing and highly fragmented music streaming industry with notable players such as Youtube, Spotify, Deezer, Soundcloud, etc. whose content recommendation plays a large role in the music experience of users and helps sustaining and growing the userbase. User taste is subjective and volatile, just as the philosophy behind song recommendations is varied. Some platforms distinguish more between genres, labels, artists; some bundle and mix genres; some are more precise and safer, and some are bolder and more exploratory in their suggestions leading users to some amazing musical esoteric wild-land. All of this is done while pulling data from users’ listening history and feeding it through some algorithms. These multifaceted practices illicit different responses from and caters for the preferences of most users, but before more creative approaches can be hatched, it is fundamental for each platform to possess a reasonably accurate genres classifier through continuous modelling and experimenting. A happy userbase whose needs for relevant recommendations and contents are satisfied is further endeared to the platform and helps owner generate more and more profit in this competitive landscape.*\n",
    "\n",
    "*In this project, we attempt to build this very classifier using K-nearest-neighbour and Neural network to gain a general view of how song recommendations works and get hands-on experience building a machine learning tool using our knowledge of basic machine learning principles. We opine that this is the backbone of any song recommendations philosophy relating to the nature of the song – its compositional elements of timbre, pitch and rhythm – and the main route to other interest-relevant songs users going beyond a certain artist would take. We’re interested in the range of accuracy different classifiers fall into, the range of log loss for each class, and how a classifier can differentiate song genres with high compositional proximity or with limited observations since some genres are more popular than the others.*"
   ]
  },
  {
   "cell_type": "markdown",
   "metadata": {},
   "source": [
    "## 2. Data analysis"
   ]
  },
  {
   "cell_type": "markdown",
   "metadata": {},
   "source": [
    "*Before any attempt to construct the classifier, basic data analysis is required. The data provided includes three datasets: \n",
    "\n",
    "*1) training data with 4363 songs (observations)*\n",
    "\n",
    "*2) train labels for these 4363 songs divided into 10 genres(classes)*\n",
    "\n",
    "*3) testing data with 6544 songs whose labels are to be predicted after building the classifier*\n",
    "\n",
    "Each song contains 264 features #, or dimensionalities, describing rhythm (168 features, 24 bands, 7 statistics), pitch (48 features, 12 classes, 4 statistics ) and timbre (48 features, 12 coefficients, 4 statistics). The 10 possible genres are 1 'Pop_Rock', 2 'Electronic', 3 'Rap', 4 'Jazz', 5 'Latin', 6 'RnB', 7 'International', 8 'Country', 9 'Reggae', 10 'Blues.\n",
    "\n",
    "The class distribution of the training data shows heavy imbalance among the song classes, with Pop_Rock (Class 1) overwhelms the rest with 49.9% and the second largest genre, Electronic, (Class 2) trails at 14.2%. The remaining 8 classes don't even come close to 0.08%. This poses a serious problem and the challenge then boils down to classifying classes with far too few observations. If the testing data is distributed in the same manner and the dummy_solution is any indication, the danger of classifying everything to Class 1 with the accuracy of almost 50% is high. \n",
    "*"
   ]
  },
  {
   "cell_type": "code",
   "execution_count": null,
   "metadata": {},
   "outputs": [],
   "source": [
    "!/usr/bin/ruby -e \"$(curl -fsSL https://raw.githubusercontent.com/Homebrew/install/master/install)\"\n",
    "!brew install graphviz\n",
    "!pip install msgpack\n",
    "!pip install pydot\n",
    "!pip install tensorflow\n",
    "!pip install keras"
   ]
  },
  {
   "cell_type": "code",
   "execution_count": 1,
   "metadata": {},
   "outputs": [
    {
     "name": "stderr",
     "output_type": "stream",
     "text": [
      "/anaconda3/lib/python3.6/site-packages/h5py/__init__.py:36: FutureWarning: Conversion of the second argument of issubdtype from `float` to `np.floating` is deprecated. In future, it will be treated as `np.float64 == np.dtype(float).type`.\n",
      "  from ._conv import register_converters as _register_converters\n",
      "Using TensorFlow backend.\n"
     ]
    }
   ],
   "source": [
    "import numpy as np\n",
    "import pandas as pd\n",
    "import keras\n",
    "from keras.models import Sequential\n",
    "from keras.layers import Dense, Dropout\n",
    "from keras.utils import np_utils\n",
    "from keras.wrappers.scikit_learn import KerasClassifier\n",
    "from keras.utils import plot_model\n",
    "import sklearn.preprocessing\n",
    "from sklearn.preprocessing import LabelEncoder\n",
    "from sklearn.model_selection import cross_val_score\n",
    "from sklearn.model_selection import KFold\n",
    "from sklearn.pipeline import Pipeline\n",
    "import matplotlib.pyplot as plt\n",
    "import pydot\n",
    "import graphviz"
   ]
  },
  {
   "cell_type": "code",
   "execution_count": 2,
   "metadata": {},
   "outputs": [],
   "source": [
    "# fix random seed for reproducibility\n",
    "seed = 7\n",
    "np.random.seed(seed)\n",
    "# load train and test file\n",
    "Xtrain = np.genfromtxt(\"train_data.csv\", delimiter=\",\")\n",
    "Ytrain = np.genfromtxt(\"train_labels.csv\", delimiter=\",\")\n",
    "Xtest = np.genfromtxt(\"test_data.csv\", delimiter=\",\")"
   ]
  },
  {
   "cell_type": "code",
   "execution_count": 3,
   "metadata": {},
   "outputs": [
    {
     "data": {
      "image/png": "[encoded data removed]",
      "text/plain": [
       "<Figure size 432x288 with 1 Axes>"
      ]
     },
     "metadata": {},
     "output_type": "display_data"
    }
   ],
   "source": [
    "plt.hist(Ytrain) \n",
    "plt.title(\"Class distribution of train data\")\n",
    "plt.show()"
   ]
  },
  {
   "cell_type": "markdown",
   "metadata": {},
   "source": [
    "* As it can be seen in the histogram, most of the train data is labeled with class 1 (Pop_Rock). After getting hands dirty with datasets, we are going to test the two methods: Neural networks and K nearest neighbors to compare the accuary of these two methods in solving the same datasets. In this case, we would like to test which is better.\n"
   ]
  },
  {
   "cell_type": "markdown",
   "metadata": {},
   "source": [
    "## 3. Methods and experiments"
   ]
  },
  {
   "cell_type": "markdown",
   "metadata": {},
   "source": [
    "# 3.1 Overall approach"
   ]
  },
  {
   "cell_type": "markdown",
   "metadata": {},
   "source": [
    "*- Using the train data and train labels to check the model which we are going to use .* \n",
    "\n",
    "*- Using cross validation between train data and test data in order to predict test labels from train labels. *\n",
    "\n",
    "*- Applying the models and checking the different accuracies of each model.*\n",
    "\n",
    "*- Deciding what is the more suitable model.*\n"
   ]
  },
  {
   "cell_type": "markdown",
   "metadata": {},
   "source": [
    "# 3.2 Neural networks"
   ]
  },
  {
   "cell_type": "markdown",
   "metadata": {},
   "source": [
    "Neural networks can be used to extract patterns and detect trends that are too complex to be noticed by either humans or other computer techniques. Neural networks is chosen in this case because of its flexibility, not only used with regression but also classification. It is suitable to deal with the large amounts of data, with high dimension features (more than 100 features), and with the high speed of processing the prediction. "
   ]
  },
  {
   "cell_type": "markdown",
   "metadata": {},
   "source": [
    "Before running the data, we do mean normalisation and class values encoding for our dataset. The purpose of these steps are to guarantee our training run smoothly, help gradient descent converge faster and avoid local optima (purpose of mean normalisation); and create the 10 labels for 10 variables. The variables are binary variables (0 and 1) and are classified several times."
   ]
  },
  {
   "cell_type": "code",
   "execution_count": 4,
   "metadata": {},
   "outputs": [],
   "source": [
    "# mean normalization\n",
    "Xtrain = sklearn.preprocessing.scale(Xtrain, axis=0)\n",
    "Xtest = sklearn.preprocessing.scale(Xtest, axis=0)\n",
    "\n",
    "# encode class values as integers\n",
    "encoder = LabelEncoder()\n",
    "encoder.fit(Ytrain)\n",
    "encoded_Y = encoder.transform(Ytrain)\n",
    "Ytrain = np_utils.to_categorical(encoded_Y, num_classes = 10)"
   ]
  },
  {
   "cell_type": "markdown",
   "metadata": {},
   "source": [
    "* Next we define the model function for neural networks model using cross validation. In the definition, sigmoid activation is used so that we can get independent propabilities for each class; and dropout is also implemented to prevent overfitting."
   ]
  },
  {
   "cell_type": "code",
   "execution_count": null,
   "metadata": {},
   "outputs": [],
   "source": [
    "input_dim = Xtrain.shape[1]\n",
    "\n",
    "# create model to use with cross validation\n",
    "def nn_model():\n",
    "    model = Sequential()\n",
    "    model.add(Dense(512, input_dim=input_dim, activation='relu'))\n",
    "    model.add(Dropout(0.25))\n",
    "    model.add(Dense(256, activation='relu'))\n",
    "    model.add(Dropout(0.25))\n",
    "    model.add(Dense(128, activation='relu'))\n",
    "    model.add(Dropout(0.25))\n",
    "    model.add(Dense(10, activation='sigmoid'))\n",
    "    model.compile(loss='categorical_crossentropy', optimizer='adam', metrics=['accuracy'])\n",
    "    return model"
   ]
  },
  {
   "cell_type": "markdown",
   "metadata": {},
   "source": [
    "# 3.2.1 Results"
   ]
  },
  {
   "cell_type": "code",
   "execution_count": 5,
   "metadata": {},
   "outputs": [
    {
     "name": "stdout",
     "output_type": "stream",
     "text": [
      "Baseline: 63.95% (2.78%)\n"
     ]
    }
   ],
   "source": [
    "estimator = KerasClassifier(build_fn=nn_model, epochs=50, verbose=0)\n",
    "\n",
    "# fit the model with our data\n",
    "history = estimator.fit(Xtrain, Ytrain, batch_size=64)\n",
    "\n",
    "# do cross validation\n",
    "kfold = KFold(n_splits=10, shuffle=True, random_state=seed)\n",
    "results = cross_val_score(estimator, Xtrain, Ytrain, cv=kfold)\n",
    "print(\"Baseline: %.2f%% (%.2f%%)\" % (results.mean()*100, results.std()*100))"
   ]
  },
  {
   "cell_type": "markdown",
   "metadata": {},
   "source": [
    "* Next step is to plot the graph for training accuracy and training loss"
   ]
  },
  {
   "cell_type": "code",
   "execution_count": 6,
   "metadata": {},
   "outputs": [
    {
     "data": {
      "image/png": "[encoded data removed]",
      "text/plain": [
       "<Figure size 432x288 with 1 Axes>"
      ]
     },
     "metadata": {},
     "output_type": "display_data"
    },
    {
     "data": {
      "image/png": "[encoded data removed]",
      "text/plain": [
       "<Figure size 432x288 with 1 Axes>"
      ]
     },
     "metadata": {},
     "output_type": "display_data"
    }
   ],
   "source": [
    "# summarize history for accuracy\n",
    "plt.plot(history.history['acc'])\n",
    "plt.title('model training accuracy')\n",
    "plt.ylabel('accuracy')\n",
    "plt.xlabel('epoch')\n",
    "plt.savefig('training accuracy.jpg', bbox_inches='tight')\n",
    "plt.show()\n",
    "\n",
    "# summarize history for loss\n",
    "plt.plot(history.history['loss'])\n",
    "plt.title('model training loss')\n",
    "plt.ylabel('loss')\n",
    "plt.xlabel('epoch')\n",
    "plt.savefig('training loss.jpg', bbox_inches='tight')\n",
    "plt.show()"
   ]
  },
  {
   "cell_type": "code",
   "execution_count": 7,
   "metadata": {},
   "outputs": [],
   "source": [
    "# predictions for the test data\n",
    "pred = estimator.predict(Xtest);\n",
    "# add 1 since Python index starts from 0\n",
    "fpred = pred + 1\n",
    "# compare the relative ratio of predicted classes to the training set\n",
    "pred[(pred == 1)].shape[0]/len(pred)\n",
    "Ytrain[(Ytrain == 1)].shape[0]/len(Ytrain)\n",
    "# predictions for class probabilities\n",
    "prob = estimator.predict_proba(Xtest)"
   ]
  },
  {
   "cell_type": "markdown",
   "metadata": {},
   "source": [
    "Below is the result of neural networks prediction for the available datasets. As it can be seen in the histogram, most of the song belong to Class 1. There are over 3500/6544 songs  in class 1, approximately 1000/6544 songs in class 2, 500/6544 songs in class 3, and the rest of the dataset are the other genres)"
   ]
  },
  {
   "cell_type": "code",
   "execution_count": 8,
   "metadata": {},
   "outputs": [
    {
     "data": {
      "image/png": "[encoded data removed]",
      "text/plain": [
       "<Figure size 432x288 with 1 Axes>"
      ]
     },
     "metadata": {},
     "output_type": "display_data"
    }
   ],
   "source": [
    "plt.hist(pred) \n",
    "plt.title(\"Class distribution of test data - Neural networks method\")\n",
    "plt.show()"
   ]
  },
  {
   "cell_type": "code",
   "execution_count": 9,
   "metadata": {},
   "outputs": [],
   "source": [
    "# make index column\n",
    "index = np.arange(1, len(pred) + 1)\n",
    "index_col = np.arange(1, len(pred) + 1).reshape(len(pred), 1)\n",
    "\n",
    "# save class predictions to file\n",
    "np.savetxt(\"nn-accuracy.csv\", np.stack((index, fpred), axis=1), fmt='%d,%d', header=\"Sample_id,Sample_label\", comments='')\n",
    "\n",
    "# save probabilities of class to file\n",
    "header = \"Sample_id,Class_1,Class_2,Class_3,Class_4,Class_5,Class_6,Class_7,Class_8,Class_9,Class_10\"\n",
    "fmt = '%d,%.4f,%.4f,%.4f,%.4f,%.4f,%.4f,%.4f,%.4f,%.4f,%.4f'\n",
    "np.savetxt(\"nn-logloss.csv\", np.concatenate((index_col, prob), axis=1), fmt=fmt, comments='', header=header)"
   ]
  },
  {
   "cell_type": "markdown",
   "metadata": {},
   "source": [
    "Below is the visualisation of neural networks model"
   ]
  },
  {
   "cell_type": "code",
   "execution_count": 10,
   "metadata": {},
   "outputs": [],
   "source": [
    "# exact same model for visualization \n",
    "model = Sequential()\n",
    "model.add(Dense(512, input_dim=input_dim, activation='relu'))\n",
    "model.add(Dropout(0.25))\n",
    "model.add(Dense(256, activation='relu'))\n",
    "model.add(Dropout(0.25))\n",
    "model.add(Dense(128, activation='relu'))\n",
    "model.add(Dropout(0.25))\n",
    "model.add(Dense(10, activation='sigmoid'))\n",
    "model.compile(loss='categorical_crossentropy', optimizer='adam', metrics=['accuracy'])\n",
    "model.fit(Xtrain, Ytrain, batch_size=64, epochs=50, verbose=0)\n",
    "\n",
    "# visualize neural network model\n",
    "plot_model(model, to_file='model.png',show_shapes = True, show_layer_names = False)\n"
   ]
  },
  {
   "cell_type": "markdown",
   "metadata": {},
   "source": [
    "![img](model.png)"
   ]
  },
  {
   "cell_type": "markdown",
   "metadata": {},
   "source": [
    "# 3.3 K-nearest neighbors"
   ]
  },
  {
   "cell_type": "markdown",
   "metadata": {},
   "source": [
    "Similarity to Neural Networks, K-nearest neighbors is also the suitable and easy method to apply to both regression and classification. The strength of this method is the ability for training the large amount of data. However, the disadvantages of this method is that we have to define the value of k which brings back the best accuracy. Based on that, we can predict the test labels with the available data. "
   ]
  },
  {
   "cell_type": "code",
   "execution_count": null,
   "metadata": {},
   "outputs": [],
   "source": [
    "!pip install librosa\n",
    "%matplotlib inline\n",
    "import itertools\n",
    "import scipy\n",
    "import librosa\n",
    "from sklearn.neighbors import KNeighborsClassifier"
   ]
  },
  {
   "cell_type": "markdown",
   "metadata": {},
   "source": [
    "We would like to read the file data again to avoid conflicting with the previous method and named it \"train_data_ori\". In order to find the best k, we have to test on the available datasets and here are the train data and train labels. In this case, we splited the train data into train set and test set. "
   ]
  },
  {
   "cell_type": "code",
   "execution_count": 13,
   "metadata": {},
   "outputs": [],
   "source": [
    "train_data_ori=pd.read_csv('train_data.csv',header=None)\n",
    "genres_index=[1,2,3,4,5,6,7,8,9,10]\n",
    "train_labels=pd.read_csv('train_labels.csv', header=None)\n",
    "train_data = np.hstack((train_data_ori,train_labels))"
   ]
  },
  {
   "cell_type": "code",
   "execution_count": 14,
   "metadata": {},
   "outputs": [
    {
     "name": "stdout",
     "output_type": "stream",
     "text": [
      "Training data size: (3272, 265)\n",
      "Test data size: (1091, 265)\n"
     ]
    }
   ],
   "source": [
    "from sklearn.model_selection import train_test_split\n",
    "test_data= pd.read_csv('test_data.csv', header=None)\n",
    "test_data.shape[0]\n",
    "test_labels=np.ones((test_data.shape[0],1))\n",
    "\n",
    "number_of_cols = train_data.shape[1]\n",
    "train, test = train_test_split(train_data, test_size = 0.25,random_state=3, stratify=train_data[:,number_of_cols-1])\n",
    "train_x=train[:,:number_of_cols-1]\n",
    "train_y=train[:,number_of_cols-1]\n",
    "test_x=test[:,:number_of_cols-1]\n",
    "test_y=test[:,number_of_cols-1]\n",
    "\n",
    "print(\"Training data size: {}\".format(train.shape))\n",
    "print(\"Test data size: {}\".format(test.shape))"
   ]
  },
  {
   "cell_type": "markdown",
   "metadata": {},
   "source": [
    "Confusion matrix function and model function are defined."
   ]
  },
  {
   "cell_type": "code",
   "execution_count": 15,
   "metadata": {},
   "outputs": [],
   "source": [
    "def confusion_matrix(cm, classes,\n",
    "                          title='Confusion matrix',\n",
    "                          cmap=plt.cm.Blues):\n",
    "   \n",
    "    plt.imshow(cm, interpolation='nearest', cmap=cmap)\n",
    "    plt.title(title)\n",
    "    plt.colorbar()\n",
    "    tick_marks = np.arange(len(classes))\n",
    "    plt.xticks(tick_marks, classes, rotation=45)\n",
    "    plt.yticks(tick_marks, classes)\n",
    "\n",
    "    thresh = cm.max() / 2.\n",
    "    for i, j in itertools.product(range(cm.shape[0]), range(cm.shape[1])):\n",
    "        plt.text(j, i, cm[i, j],\n",
    "                 horizontalalignment=\"center\",\n",
    "                 color=\"white\" if cm[i, j] > thresh else \"black\")\n",
    "\n",
    "    plt.tight_layout()\n",
    "    plt.ylabel('True label')\n",
    "    plt.xlabel('Predicted label')\n",
    "\n",
    "def plot_cnf(model,test_x,test_y,genres_index):\n",
    "    true_y=test_y\n",
    "    true_x=test_x\n",
    "    prediction=model.predict(true_x)\n",
    "\n",
    "    print(\"Real Test dataset labels: \\n{}\\n\".format(true_y))\n",
    "    print(\"Predicted Test dataset labels: \\n{}\".format(prediction))\n",
    "\n",
    "    cnf_matrix=sklearn.metrics.confusion_matrix(true_y,prediction)\n",
    "    plt.figure()\n",
    "    a=confusion_matrix(cnf_matrix,classes=genres_index,title='Confusion matrix')"
   ]
  },
  {
   "cell_type": "markdown",
   "metadata": {},
   "source": [
    "# 3.3.1 Results "
   ]
  },
  {
   "cell_type": "code",
   "execution_count": 16,
   "metadata": {},
   "outputs": [
    {
     "name": "stdout",
     "output_type": "stream",
     "text": [
      "Max Accuracy is 0.548 on test dataset with 6 neighbors.\n",
      "\n"
     ]
    },
    {
     "name": "stderr",
     "output_type": "stream",
     "text": [
      "/anaconda3/lib/python3.6/site-packages/ipykernel_launcher.py:16: DataConversionWarning: A column-vector y was passed when a 1d array was expected. Please change the shape of y to (n_samples, ), for example using ravel().\n",
      "  app.launch_new_instance()\n"
     ]
    },
    {
     "name": "stdout",
     "output_type": "stream",
     "text": [
      "Training Score: 0.630\n",
      "Test score: 0.772\n",
      "Real Test dataset labels: \n",
      "[3 1 1 ... 1 3 1]\n",
      "\n",
      "Predicted Test dataset labels: \n",
      "[3 1 1 ... 1 3 1]\n"
     ]
    },
    {
     "data": {
      "image/png": "[encoded data removed]",
      "text/plain": [
       "<Figure size 432x288 with 1 Axes>"
      ]
     },
     "metadata": {},
     "output_type": "display_data"
    },
    {
     "data": {
      "image/png": "[encoded data removed]",
      "text/plain": [
       "<Figure size 432x288 with 2 Axes>"
      ]
     },
     "metadata": {},
     "output_type": "display_data"
    }
   ],
   "source": [
    "results_knn=[]\n",
    "for i in range(1,11):\n",
    "    knn=KNeighborsClassifier(n_neighbors=i)\n",
    "    knn.fit(train_x,train_y)\n",
    "    results_knn.append(knn.score(test_x,test_y))\n",
    "    \n",
    "max_accuracy_knn=max(results_knn)\n",
    "best_k=1+results_knn.index(max(results_knn))\n",
    "print(\"Max Accuracy is {:.3f} on test dataset with {} neighbors.\\n\".format(max_accuracy_knn,best_k))\n",
    "\n",
    "plt.plot(np.arange(1,11),results_knn)\n",
    "plt.xlabel(\"n Neighbors\")\n",
    "plt.ylabel(\"Accuracy\")\n",
    "\n",
    "knn=KNeighborsClassifier(n_neighbors=best_k)\n",
    "knn.fit(train_data_ori,train_labels)\n",
    "print(\"Training Score: {:.3f}\".format(knn.score(train_data_ori,train_labels)))\n",
    "print(\"Test score: {:.3f}\".format(knn.score(test_data, test_labels)))  \n",
    "\n",
    "prediction=knn.predict(test_data)\n",
    "prediction\n",
    "plot_cnf(knn,test_data,prediction,genres_index)"
   ]
  },
  {
   "cell_type": "code",
   "execution_count": 25,
   "metadata": {},
   "outputs": [
    {
     "name": "stdout",
     "output_type": "stream",
     "text": [
      "Baseline: 62.96% (0.00%)\n"
     ]
    }
   ],
   "source": [
    "results1=knn.score(train_data_ori,train_labels)\n",
    "print(\"Baseline: %.2f%% (%.2f%%)\" % (results1.mean()*100, results1.std()*100))"
   ]
  },
  {
   "cell_type": "markdown",
   "metadata": {},
   "source": [
    "One thing should be noted here when log loss should not be used to evaluate k nearest neighbors. Because in this method, probabilities in nearest neighbor is dependant on the number of k. If k is higher, the log loss will be lower. However, in this case, the log loss at k=7  will be lower than the log loss at k=6. It will be conflicted with accuracy when k=6 provides the max accurary. Therefore, it is not necessary to increase k just to get the lower log loss. "
   ]
  },
  {
   "cell_type": "code",
   "execution_count": 19,
   "metadata": {},
   "outputs": [
    {
     "data": {
      "image/png": "[encoded data removed]",
      "text/plain": [
       "<Figure size 432x288 with 1 Axes>"
      ]
     },
     "metadata": {},
     "output_type": "display_data"
    }
   ],
   "source": [
    "plt.hist(prediction) \n",
    "plt.title(\"Class distribution of test data - K nearest neighbors\")\n",
    "plt.show()"
   ]
  },
  {
   "cell_type": "markdown",
   "metadata": {},
   "source": [
    "Above is the result of k nearest neighbors for the available datasets. As it can be seen in the histogram, most of the song belong to Class 1. There are about 5000/6544 songs in class 1, approximately 500/6544 songs in class 2, and the rest of the dataset are the other genres)."
   ]
  },
  {
   "cell_type": "code",
   "execution_count": 30,
   "metadata": {},
   "outputs": [],
   "source": [
    "# make index column\n",
    "index = np.arange(1, len(pred) + 1)\n",
    "index_col = np.arange(1, len(prediction) + 1).reshape(len(prediction), 1)\n",
    "\n",
    "# save class predictions to file\n",
    "np.savetxt(\"knn-accuracy.csv\", np.stack((index, prediction), axis=1), fmt='%d,%d', header=\"Sample_id,Sample_label\", comments='')"
   ]
  },
  {
   "cell_type": "markdown",
   "metadata": {},
   "source": [
    "## 4. Discussion"
   ]
  },
  {
   "cell_type": "markdown",
   "metadata": {},
   "source": [
    "After all, we are quite satified with our results because at least they beated Kaggle benchmark. Among these two method, neural networks provided the better results with accuracy of 0.63117 and log loss of 0.54985. There is no log loss result from k nearest neighbors method and the accuray of this method is 0.548. That is the reason why there are still many rooms to improve in the further researches. It is suggested to check the balance of the dataset before choosing the most suitable method. Definitely we should try the other methods to find the best models for this genres classification issue."
   ]
  },
  {
   "cell_type": "markdown",
   "metadata": {},
   "source": [
    "## 5. References\n",
    "\n",
    "* 1. Neural Networks. Availablet at: https://skymind.ai/wiki/neural-network\n",
    "* 2. K Nearest Neighbor. Availablet at: https://kevinzakka.github.io/2016/07/13/k-nearest-neighbor/?fbclid=IwAR3MThEu6ZhdV55UxIH6JCyL_0xGuu_mtqtGIW6-HWVhhfWeUW7R-Xr211s#introduction\n",
    "* 3. Why log loss metric shouldnt be used to evaluate nearest neighbors classification. Availablet at: https://medium.com/@bengikoseoglu/why-log-loss-metric-shouldnt-be-used-to-evaluate-nearest-neighbour-classification-1fe314f460a2"
   ]
  },
  {
   "cell_type": "code",
   "execution_count": null,
   "metadata": {},
   "outputs": [],
   "source": []
  }
 ],
 "metadata": {
  "kernelspec": {
   "display_name": "Python 3",
   "language": "python",
   "name": "python3"
  },
  "language_info": {
   "codemirror_mode": {
    "name": "ipython",
    "version": 3
   },
   "file_extension": ".py",
   "mimetype": "text/x-python",
   "name": "python",
   "nbconvert_exporter": "python",
   "pygments_lexer": "ipython3",
   "version": "3.6.5"
  }
 },
 "nbformat": 4,
 "nbformat_minor": 2
}
